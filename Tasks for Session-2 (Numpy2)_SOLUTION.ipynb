{
 "cells": [
  {
   "cell_type": "code",
   "execution_count": 2,
   "id": "70c425ae",
   "metadata": {},
   "outputs": [],
   "source": [
    "import numpy as np"
   ]
  },
  {
   "cell_type": "markdown",
   "id": "bef820fe",
   "metadata": {},
   "source": [
    "## Aşağıdaki arr1 arrayinin orta satırını ve son sütunu seçin:"
   ]
  },
  {
   "cell_type": "code",
   "execution_count": 90,
   "id": "bc5b737a",
   "metadata": {},
   "outputs": [
    {
     "data": {
      "text/plain": [
       "array([[1, 2, 3],\n",
       "       [4, 5, 6],\n",
       "       [7, 8, 9]])"
      ]
     },
     "execution_count": 90,
     "metadata": {},
     "output_type": "execute_result"
    }
   ],
   "source": [
    "arr1 = np.array([[1, 2, 3], [4, 5, 6], [7, 8, 9]])\n",
    "arr1"
   ]
  },
  {
   "cell_type": "code",
   "execution_count": null,
   "id": "55b1a217",
   "metadata": {},
   "outputs": [],
   "source": []
  },
  {
   "cell_type": "code",
   "execution_count": 91,
   "id": "12833c74",
   "metadata": {},
   "outputs": [
    {
     "data": {
      "text/plain": [
       "array([4, 5])"
      ]
     },
     "execution_count": 91,
     "metadata": {},
     "output_type": "execute_result"
    }
   ],
   "source": [
    "arr1[1, :-1]"
   ]
  },
  {
   "cell_type": "markdown",
   "id": "ea06787c",
   "metadata": {},
   "source": [
    "## Arrayin son satırını ters çevirerek seçin:"
   ]
  },
  {
   "cell_type": "code",
   "execution_count": null,
   "id": "4fb32090",
   "metadata": {},
   "outputs": [],
   "source": []
  },
  {
   "cell_type": "code",
   "execution_count": 92,
   "id": "c2f8d75e",
   "metadata": {},
   "outputs": [
    {
     "data": {
      "text/plain": [
       "array([9, 8, 7])"
      ]
     },
     "execution_count": 92,
     "metadata": {},
     "output_type": "execute_result"
    }
   ],
   "source": [
    "arr1[-1, ::-1]"
   ]
  },
  {
   "cell_type": "markdown",
   "id": "5f0bbb01",
   "metadata": {},
   "source": [
    "## Arrayin köşegen elemanlarını seçin:\n",
    "**Derste görmediniz. Araştırma gerekiyor.**"
   ]
  },
  {
   "cell_type": "code",
   "execution_count": null,
   "id": "6a0cf554",
   "metadata": {},
   "outputs": [],
   "source": []
  },
  {
   "cell_type": "code",
   "execution_count": 93,
   "id": "6a79591d",
   "metadata": {},
   "outputs": [
    {
     "data": {
      "text/plain": [
       "array([1, 5, 9])"
      ]
     },
     "execution_count": 93,
     "metadata": {},
     "output_type": "execute_result"
    }
   ],
   "source": [
    "arr1.diagonal()"
   ]
  },
  {
   "cell_type": "markdown",
   "id": "e4509bfd",
   "metadata": {},
   "source": [
    "## Arrayin alt üçgenini seçin:\n",
    "**Derste görmediniz. Araştırma gerekiyor.**"
   ]
  },
  {
   "cell_type": "code",
   "execution_count": null,
   "id": "eefb26d5",
   "metadata": {},
   "outputs": [],
   "source": []
  },
  {
   "cell_type": "code",
   "execution_count": 96,
   "id": "4be04822",
   "metadata": {},
   "outputs": [
    {
     "data": {
      "text/plain": [
       "array([1, 4, 5, 7, 8, 9])"
      ]
     },
     "execution_count": 96,
     "metadata": {},
     "output_type": "execute_result"
    }
   ],
   "source": [
    "arr1[np.tril_indices(3)]"
   ]
  },
  {
   "cell_type": "markdown",
   "id": "1581cff7",
   "metadata": {},
   "source": [
    "## Arrayin üst üçgenini seçin:\n",
    "**Derste görmediniz. Araştırma gerekiyor.**"
   ]
  },
  {
   "cell_type": "code",
   "execution_count": null,
   "id": "6ac3f679",
   "metadata": {},
   "outputs": [],
   "source": []
  },
  {
   "cell_type": "code",
   "execution_count": 95,
   "id": "7e3f589f",
   "metadata": {},
   "outputs": [
    {
     "data": {
      "text/plain": [
       "array([1, 2, 3, 5, 6, 9])"
      ]
     },
     "execution_count": 95,
     "metadata": {},
     "output_type": "execute_result"
    }
   ],
   "source": [
    "arr1[np.triu_indices(3)]"
   ]
  },
  {
   "cell_type": "markdown",
   "id": "c6850182",
   "metadata": {},
   "source": [
    "## Arrayin elemanlarını rastgele karıştırarak seçin:\n",
    "**Derste görmediniz. Araştırma gerekiyor.**"
   ]
  },
  {
   "cell_type": "code",
   "execution_count": null,
   "id": "306beb3c",
   "metadata": {},
   "outputs": [],
   "source": []
  },
  {
   "cell_type": "code",
   "execution_count": 97,
   "id": "29cfc0af",
   "metadata": {},
   "outputs": [
    {
     "data": {
      "text/plain": [
       "array([[4, 5, 6],\n",
       "       [7, 8, 9],\n",
       "       [1, 2, 3]])"
      ]
     },
     "execution_count": 97,
     "metadata": {},
     "output_type": "execute_result"
    }
   ],
   "source": [
    "np.random.shuffle(arr1)\n",
    "arr1"
   ]
  },
  {
   "cell_type": "markdown",
   "id": "2afc4806",
   "metadata": {},
   "source": [
    "## Aşağıdaki arr2 arrayinin satırlarını toplayarak seçin:"
   ]
  },
  {
   "cell_type": "code",
   "execution_count": 17,
   "id": "dc2e97ec",
   "metadata": {},
   "outputs": [
    {
     "data": {
      "text/plain": [
       "array([[ 1,  2,  3,  4],\n",
       "       [ 5,  6,  7,  8],\n",
       "       [ 9, 10, 11, 12],\n",
       "       [13, 14, 15, 16]])"
      ]
     },
     "execution_count": 17,
     "metadata": {},
     "output_type": "execute_result"
    }
   ],
   "source": [
    "arr2 = np.array([[1, 2, 3, 4], [5, 6, 7, 8], [9, 10, 11, 12], [13, 14, 15, 16]])\n",
    "arr2"
   ]
  },
  {
   "cell_type": "code",
   "execution_count": null,
   "id": "3ae056dc",
   "metadata": {},
   "outputs": [],
   "source": []
  },
  {
   "cell_type": "code",
   "execution_count": 29,
   "id": "4587aa16",
   "metadata": {},
   "outputs": [
    {
     "data": {
      "text/plain": [
       "array([10, 26, 42, 58])"
      ]
     },
     "execution_count": 29,
     "metadata": {},
     "output_type": "execute_result"
    }
   ],
   "source": [
    "np.sum(arr2, axis=1)"
   ]
  },
  {
   "cell_type": "markdown",
   "id": "d410ab7b",
   "metadata": {},
   "source": [
    "## Arrayin 3. satırındaki en büyük ve en küçük elemanları seçin:"
   ]
  },
  {
   "cell_type": "code",
   "execution_count": null,
   "id": "78b1e7a9",
   "metadata": {},
   "outputs": [],
   "source": []
  },
  {
   "cell_type": "code",
   "execution_count": 33,
   "id": "f1bb293c",
   "metadata": {},
   "outputs": [
    {
     "name": "stdout",
     "output_type": "stream",
     "text": [
      "max_val: 12, min_val: 9\n"
     ]
    }
   ],
   "source": [
    "max_val = np.max(arr2[2])\n",
    "min_val = np.min(arr2[2])\n",
    "print(f\"max_val: {max_val}, min_val: {min_val}\")"
   ]
  },
  {
   "cell_type": "markdown",
   "id": "2ad0d621",
   "metadata": {},
   "source": [
    "## Aşağıdaki arr3 arrayinin 5'ten küçük elemanlarını olduğu gibi, diğer elemanları 10 ile çarparak getirin:"
   ]
  },
  {
   "cell_type": "code",
   "execution_count": 61,
   "id": "3d5bdb33",
   "metadata": {},
   "outputs": [
    {
     "data": {
      "text/plain": [
       "array([0, 1, 2, 3, 4, 5, 6, 7, 8, 9])"
      ]
     },
     "execution_count": 61,
     "metadata": {},
     "output_type": "execute_result"
    }
   ],
   "source": [
    "arr3 = np.arange(10)\n",
    "arr3"
   ]
  },
  {
   "cell_type": "code",
   "execution_count": null,
   "id": "22d4ba0d",
   "metadata": {},
   "outputs": [],
   "source": []
  },
  {
   "cell_type": "code",
   "execution_count": 63,
   "id": "1ca49d6d",
   "metadata": {},
   "outputs": [
    {
     "data": {
      "text/plain": [
       "array([ 0,  1,  2,  3,  4, 50, 60, 70, 80, 90])"
      ]
     },
     "execution_count": 63,
     "metadata": {},
     "output_type": "execute_result"
    }
   ],
   "source": [
    "np.where(arr3 < 5, arr3, 10*arr3)"
   ]
  },
  {
   "cell_type": "markdown",
   "id": "7653cc27",
   "metadata": {},
   "source": [
    "# Aşağıdaki arr4 array'inin 1. ve 3. sütunlarındaki 5'ten büyük elemanlarını olduğu gibi, bu sütunların diğer elemanlarını 0 olarak getirin:"
   ]
  },
  {
   "cell_type": "code",
   "execution_count": 64,
   "id": "65c54e19",
   "metadata": {},
   "outputs": [
    {
     "data": {
      "text/plain": [
       "array([[ 1,  2,  3,  4],\n",
       "       [ 5,  6,  7,  8],\n",
       "       [ 9, 10, 11, 12],\n",
       "       [13, 14, 15, 16]])"
      ]
     },
     "execution_count": 64,
     "metadata": {},
     "output_type": "execute_result"
    }
   ],
   "source": [
    "arr4 = np.array([[1, 2, 3, 4], [5, 6, 7, 8], [9, 10, 11, 12], [13, 14, 15, 16]])\n",
    "arr4"
   ]
  },
  {
   "cell_type": "code",
   "execution_count": null,
   "id": "3e7640fa",
   "metadata": {},
   "outputs": [],
   "source": []
  },
  {
   "cell_type": "code",
   "execution_count": null,
   "id": "20956728",
   "metadata": {},
   "outputs": [],
   "source": []
  },
  {
   "cell_type": "code",
   "execution_count": 66,
   "id": "7db10071",
   "metadata": {},
   "outputs": [
    {
     "data": {
      "text/plain": [
       "array([[ 1,  3],\n",
       "       [ 5,  7],\n",
       "       [ 9, 11],\n",
       "       [13, 15]])"
      ]
     },
     "execution_count": 66,
     "metadata": {},
     "output_type": "execute_result"
    }
   ],
   "source": [
    "arr4[:, [0, 2]]"
   ]
  },
  {
   "cell_type": "code",
   "execution_count": 67,
   "id": "d19846b5",
   "metadata": {},
   "outputs": [
    {
     "data": {
      "text/plain": [
       "array([[False, False],\n",
       "       [False,  True],\n",
       "       [ True,  True],\n",
       "       [ True,  True]])"
      ]
     },
     "execution_count": 67,
     "metadata": {},
     "output_type": "execute_result"
    }
   ],
   "source": [
    "cond = arr4[:, [0, 2]] > 5\n",
    "cond"
   ]
  },
  {
   "cell_type": "code",
   "execution_count": 69,
   "id": "ae67d025",
   "metadata": {},
   "outputs": [
    {
     "data": {
      "text/plain": [
       "array([[ 0,  0],\n",
       "       [ 0,  7],\n",
       "       [ 9, 11],\n",
       "       [13, 15]])"
      ]
     },
     "execution_count": 69,
     "metadata": {},
     "output_type": "execute_result"
    }
   ],
   "source": [
    "np.where(arr4 > 5, arr4, 0)[:, [0, 2]]\n",
    "# np.where(arr4 > 5, arr4, False)[:, [0, 2]]"
   ]
  },
  {
   "cell_type": "markdown",
   "id": "35085525",
   "metadata": {},
   "source": [
    "# Arrayin 1. ve 4. sütunlarındaki 10'dan büyük ve eşit elemanları \"büyük\", bu sütunların diğer elemanlarını \"küçük\" olarak değiştirin:"
   ]
  },
  {
   "cell_type": "code",
   "execution_count": null,
   "id": "0844bb88",
   "metadata": {},
   "outputs": [],
   "source": []
  },
  {
   "cell_type": "code",
   "execution_count": null,
   "id": "c4860ab1",
   "metadata": {},
   "outputs": [],
   "source": []
  },
  {
   "cell_type": "code",
   "execution_count": 72,
   "id": "ec2af071",
   "metadata": {},
   "outputs": [
    {
     "data": {
      "text/plain": [
       "array([[False, False],\n",
       "       [False, False],\n",
       "       [False,  True],\n",
       "       [ True,  True]])"
      ]
     },
     "execution_count": 72,
     "metadata": {},
     "output_type": "execute_result"
    }
   ],
   "source": [
    "cond = arr4[:, [0, 3]] >= 10\n",
    "cond"
   ]
  },
  {
   "cell_type": "code",
   "execution_count": 73,
   "id": "3f8aa701",
   "metadata": {},
   "outputs": [
    {
     "data": {
      "text/plain": [
       "array([['küçük', 'küçük'],\n",
       "       ['küçük', 'küçük'],\n",
       "       ['küçük', 'büyük'],\n",
       "       ['büyük', 'büyük']], dtype='<U11')"
      ]
     },
     "execution_count": 73,
     "metadata": {},
     "output_type": "execute_result"
    }
   ],
   "source": [
    "# nested where\n",
    "\n",
    "np.where(arr4 >= 10, \"büyük\", np.where(arr4 < 10, \"küçük\", arr4))[:, [0, 3]]"
   ]
  },
  {
   "cell_type": "markdown",
   "id": "c382b5a9",
   "metadata": {},
   "source": [
    "## Aşağıdaki arr2D dizisini, 2. satırını arr1D dizisi ile toplayacak şekilde update edin.:"
   ]
  },
  {
   "cell_type": "code",
   "execution_count": 75,
   "id": "89b3f9e7",
   "metadata": {},
   "outputs": [
    {
     "data": {
      "text/plain": [
       "array([[1, 2, 3],\n",
       "       [4, 5, 6]])"
      ]
     },
     "metadata": {},
     "output_type": "display_data"
    },
    {
     "data": {
      "text/plain": [
       "array([10, 20, 30])"
      ]
     },
     "metadata": {},
     "output_type": "display_data"
    }
   ],
   "source": [
    "arr2D = np.array([[1, 2, 3],\n",
    "                 [4, 5, 6]])\n",
    "\n",
    "arr1D = np.array([10, 20, 30])\n",
    "\n",
    "display(arr2D)\n",
    "display(arr1D)"
   ]
  },
  {
   "cell_type": "code",
   "execution_count": null,
   "id": "74477647",
   "metadata": {},
   "outputs": [],
   "source": []
  },
  {
   "cell_type": "code",
   "execution_count": 89,
   "id": "3313d972",
   "metadata": {},
   "outputs": [
    {
     "data": {
      "text/plain": [
       "array([[ 1,  2,  3],\n",
       "       [24, 45, 66]])"
      ]
     },
     "execution_count": 89,
     "metadata": {},
     "output_type": "execute_result"
    }
   ],
   "source": [
    "\n",
    "arr2D[1, :] = arr2D[1, :] + arr1D\n",
    "arr2D"
   ]
  },
  {
   "cell_type": "code",
   "execution_count": null,
   "id": "d01c44e5",
   "metadata": {},
   "outputs": [],
   "source": []
  }
 ],
 "metadata": {
  "kernelspec": {
   "display_name": "Python 3 (ipykernel)",
   "language": "python",
   "name": "python3"
  },
  "language_info": {
   "codemirror_mode": {
    "name": "ipython",
    "version": 3
   },
   "file_extension": ".py",
   "mimetype": "text/x-python",
   "name": "python",
   "nbconvert_exporter": "python",
   "pygments_lexer": "ipython3",
   "version": "3.11.5"
  }
 },
 "nbformat": 4,
 "nbformat_minor": 5
}
