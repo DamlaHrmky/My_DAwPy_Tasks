{
 "cells": [
  {
   "cell_type": "markdown",
   "id": "e5dda5fd",
   "metadata": {},
   "source": [
    "# Tasks for Session-4 (Pandas_DataFrames)"
   ]
  },
  {
   "cell_type": "markdown",
   "id": "e903571e",
   "metadata": {},
   "source": [
    "**Bir film veri setini işlemek için bir program geliştirmenizi istiyoruz. Veri seti, film adı, kategori, derecelendirme ve süre bilgilerini içeren bir pandas DataFrame olarak temsil edilmektedir.**\n",
    "\n",
    "**Kullanıcıdan film adı, kategori, derecelendirme ve süre bilgilerini alarak bunlardan bir DataFrame oluşturun. DataFrame sütunları \"Film_Adı\", \"Kategori\", \"Derecelendirme\" ve \"Süre\" olsun.**"
   ]
  },
  {
   "cell_type": "markdown",
   "id": "937359b0",
   "metadata": {},
   "source": [
    "### Sinema derecelendirme kategorileri:\n",
    "\n",
    "**G (General Audiences) - Genel İzleyici:** Her yaş grubundan izleyici için uygundur.Herhangi bir sınırlama olmadan herkes tarafından izlenebilir.\n",
    "\n",
    "**PG (Parental Guidance) - Ebeveyn Rehberliği:** ocukların izlemesine uygun olan ancak ebeveynlerin rehberlik yapması gereken filmleri ifade eder. Bazı sahneler veya konular çocukları korkutabilir veya rahatsız edebilir.\n",
    "\n",
    "**PG-13 (Parents Strongly Cautioned) - 13 Yaşından Küçüklere Ebeveyn Önerisi:** Bu kategori, 13 yaşından küçük izleyicilere ebeveynlerin rehberlik yapması gereken filmleri ifade eder. Şiddet, dil veya bazı yetişkin temalar içerebilir.\n",
    "\n",
    "**R (Restricted) - Sınırlı:** 17 yaşından küçükler için ebeveyn gözetimi veya 17 yaşından küçük izleyicilere uygun olmayan filmleri ifade eder. Şiddet, cinsellik, küfür veya uyuşturucu kullanımı gibi yetişkin içerikleri içerebilir.\n",
    "\n",
    "**NC-17 (Adults Only) - 17 yaşından küçüklere uygun değil:** 1yaşından küçük izleyicilere uygun olmayan ve sadece yetişkinlere yönelik filmleri ifade eder. Cinsellik, şiddet, aşırı kanlı sahneler veya diğer yetişkin içerikler içerebilir.\n",
    "\n",
    "Bu derecelendirme kategorileri genel olarak Amerikan sinema endüstrisinde kullanılan MPAA (Motion Picture Association of America) derecelendirme sistemine dayanmaktadır. Diğer ülkelerde farklı derecelendirme sistemleri ve kategoriler kullanılabilir."
   ]
  },
  {
   "cell_type": "code",
   "execution_count": 2,
   "id": "6b5198f1",
   "metadata": {},
   "outputs": [],
   "source": [
    "import pandas as pd"
   ]
  },
  {
   "cell_type": "code",
   "execution_count": null,
   "id": "88621d93",
   "metadata": {},
   "outputs": [],
   "source": [
    "import pandas as pd\n",
    "\n",
    "def create_film_dataframe():\n",
    "    film_list = []\n",
    "    \n",
    "    while True:\n",
    "        film_name = input(\"Film adını girin (veya çıkmak için 'q' tuşuna basın): \")\n",
    "        if film_name.lower() == 'q':\n",
    "            break\n",
    "        \n",
    "        category = input(\"Kategori girin: \")\n",
    "        rating = float(input(\"Derecelendirme girin: \"))\n",
    "        duration = int(input(\"Süre girin (dakika cinsinden): \"))\n",
    "        butce = int(input(\"Film bütçesini girin: \"))\n",
    "        \n",
    "        film_list.append({\n",
    "            \"Film_Adı\": film_name,\n",
    "            \"Kategori\": category,\n",
    "            \"Derecelendirme\": rating,\n",
    "            \"Süre\": duration,\n",
    "            \"Bütçe\": butce\n",
    "        })\n",
    "\n",
    "    film_df = pd.DataFrame(film_list)\n",
    "    return film_df\n",
    "\n",
    "if __name__ == \"__main__\":\n",
    "    film_dataframe = create_film_dataframe()\n",
    "    print(\"\\nOluşturulan Film DataFrame'i:\")\n",
    "    print(film_dataframe)\n"
   ]
  },
  {
   "cell_type": "code",
   "execution_count": 10,
   "id": "c4a00d0a",
   "metadata": {},
   "outputs": [
    {
     "data": {
      "text/html": [
       "<div>\n",
       "<style scoped>\n",
       "    .dataframe tbody tr th:only-of-type {\n",
       "        vertical-align: middle;\n",
       "    }\n",
       "\n",
       "    .dataframe tbody tr th {\n",
       "        vertical-align: top;\n",
       "    }\n",
       "\n",
       "    .dataframe thead th {\n",
       "        text-align: right;\n",
       "    }\n",
       "</style>\n",
       "<table border=\"1\" class=\"dataframe\">\n",
       "  <thead>\n",
       "    <tr style=\"text-align: right;\">\n",
       "      <th></th>\n",
       "      <th>Film_Adı</th>\n",
       "      <th>Kategori</th>\n",
       "      <th>Derecelendirme</th>\n",
       "      <th>Süre</th>\n",
       "      <th>Bütçe</th>\n",
       "    </tr>\n",
       "  </thead>\n",
       "  <tbody>\n",
       "    <tr>\n",
       "      <th>0</th>\n",
       "      <td>Film 1</td>\n",
       "      <td>Aksiyon</td>\n",
       "      <td>6.7</td>\n",
       "      <td>120</td>\n",
       "      <td>1500000</td>\n",
       "    </tr>\n",
       "    <tr>\n",
       "      <th>1</th>\n",
       "      <td>Film 2</td>\n",
       "      <td>Drama</td>\n",
       "      <td>8.0</td>\n",
       "      <td>105</td>\n",
       "      <td>500000</td>\n",
       "    </tr>\n",
       "    <tr>\n",
       "      <th>2</th>\n",
       "      <td>Film 3</td>\n",
       "      <td>Komedi</td>\n",
       "      <td>5.8</td>\n",
       "      <td>90</td>\n",
       "      <td>2000000</td>\n",
       "    </tr>\n",
       "    <tr>\n",
       "      <th>3</th>\n",
       "      <td>Film 4</td>\n",
       "      <td>Drama</td>\n",
       "      <td>7.2</td>\n",
       "      <td>135</td>\n",
       "      <td>1000000</td>\n",
       "    </tr>\n",
       "    <tr>\n",
       "      <th>4</th>\n",
       "      <td>Film 5</td>\n",
       "      <td>Aksiyon</td>\n",
       "      <td>6.5</td>\n",
       "      <td>100</td>\n",
       "      <td>3000000</td>\n",
       "    </tr>\n",
       "  </tbody>\n",
       "</table>\n",
       "</div>"
      ],
      "text/plain": [
       "  Film_Adı Kategori  Derecelendirme  Süre    Bütçe\n",
       "0   Film 1  Aksiyon             6.7   120  1500000\n",
       "1   Film 2    Drama             8.0   105   500000\n",
       "2   Film 3   Komedi             5.8    90  2000000\n",
       "3   Film 4    Drama             7.2   135  1000000\n",
       "4   Film 5  Aksiyon             6.5   100  3000000"
      ]
     },
     "execution_count": 10,
     "metadata": {},
     "output_type": "execute_result"
    }
   ],
   "source": [
    "# Alternatif olarak hazır bir DataFrame:\n",
    "\n",
    "data = {\n",
    "    'Film_Adı': ['Film 1', 'Film 2', 'Film 3', 'Film 4', 'Film 5'],\n",
    "    'Kategori': ['Aksiyon', 'Drama', 'Komedi', 'Drama', 'Aksiyon'],\n",
    "    'Derecelendirme': [6.7, 8, 5.8, 7.2, 6.5],\n",
    "    'Süre': [120, 105, 90, 135, 100],\n",
    "    'Bütçe': [1500000, 500000, 2000000, 1000000, 3000000]\n",
    "}\n",
    "\n",
    "df = pd.DataFrame(data)\n",
    "df"
   ]
  },
  {
   "cell_type": "code",
   "execution_count": 11,
   "id": "0cb23b36",
   "metadata": {},
   "outputs": [
    {
     "name": "stdout",
     "output_type": "stream",
     "text": [
      "<class 'pandas.core.frame.DataFrame'>\n",
      "RangeIndex: 5 entries, 0 to 4\n",
      "Data columns (total 5 columns):\n",
      " #   Column          Non-Null Count  Dtype  \n",
      "---  ------          --------------  -----  \n",
      " 0   Film_Adı        5 non-null      object \n",
      " 1   Kategori        5 non-null      object \n",
      " 2   Derecelendirme  5 non-null      float64\n",
      " 3   Süre            5 non-null      int64  \n",
      " 4   Bütçe           5 non-null      int64  \n",
      "dtypes: float64(1), int64(2), object(2)\n",
      "memory usage: 328.0+ bytes\n"
     ]
    }
   ],
   "source": [
    "df.info()"
   ]
  },
  {
   "cell_type": "markdown",
   "id": "51ea9494",
   "metadata": {},
   "source": [
    "## Task1: Girilecek bir kategoriye ait filmleri ekrana yazdıran bir program yazın:"
   ]
  },
  {
   "cell_type": "code",
   "execution_count": 12,
   "id": "dea36b20",
   "metadata": {
    "scrolled": false
   },
   "outputs": [
    {
     "name": "stdout",
     "output_type": "stream",
     "text": [
      "Bir kategori girin: Drama\n",
      "\n",
      "Seçilen kategori:  Drama\n"
     ]
    },
    {
     "data": {
      "text/html": [
       "<div>\n",
       "<style scoped>\n",
       "    .dataframe tbody tr th:only-of-type {\n",
       "        vertical-align: middle;\n",
       "    }\n",
       "\n",
       "    .dataframe tbody tr th {\n",
       "        vertical-align: top;\n",
       "    }\n",
       "\n",
       "    .dataframe thead th {\n",
       "        text-align: right;\n",
       "    }\n",
       "</style>\n",
       "<table border=\"1\" class=\"dataframe\">\n",
       "  <thead>\n",
       "    <tr style=\"text-align: right;\">\n",
       "      <th></th>\n",
       "      <th>Film_Adı</th>\n",
       "      <th>Kategori</th>\n",
       "      <th>Derecelendirme</th>\n",
       "      <th>Süre</th>\n",
       "      <th>Bütçe</th>\n",
       "    </tr>\n",
       "  </thead>\n",
       "  <tbody>\n",
       "    <tr>\n",
       "      <th>1</th>\n",
       "      <td>Film 2</td>\n",
       "      <td>Drama</td>\n",
       "      <td>8.0</td>\n",
       "      <td>105</td>\n",
       "      <td>500000</td>\n",
       "    </tr>\n",
       "    <tr>\n",
       "      <th>3</th>\n",
       "      <td>Film 4</td>\n",
       "      <td>Drama</td>\n",
       "      <td>7.2</td>\n",
       "      <td>135</td>\n",
       "      <td>1000000</td>\n",
       "    </tr>\n",
       "  </tbody>\n",
       "</table>\n",
       "</div>"
      ],
      "text/plain": [
       "  Film_Adı Kategori  Derecelendirme  Süre    Bütçe\n",
       "1   Film 2    Drama             8.0   105   500000\n",
       "3   Film 4    Drama             7.2   135  1000000"
      ]
     },
     "execution_count": 12,
     "metadata": {},
     "output_type": "execute_result"
    }
   ],
   "source": [
    "kategori = input(\"Bir kategori girin: \")\n",
    "print(\"\\nSeçilen kategori: \", kategori)\n",
    "df[df['Kategori'] == kategori]"
   ]
  },
  {
   "cell_type": "markdown",
   "id": "92449c9c",
   "metadata": {},
   "source": [
    "## Task 2: En Yüksek Bütçeli Filmi Bulun."
   ]
  },
  {
   "cell_type": "code",
   "execution_count": 25,
   "id": "85ec1cfc",
   "metadata": {
    "scrolled": true
   },
   "outputs": [
    {
     "name": "stdout",
     "output_type": "stream",
     "text": [
      "En Yüksek Bütçeye Sahip Film:\n",
      " Film_Adı     Film 5\n",
      "Bütçe       3000000\n",
      "Name: 4, dtype: object\n",
      "\n",
      "En Yüksek Bütçeye Sahip Film:\n"
     ]
    },
    {
     "data": {
      "text/html": [
       "<div>\n",
       "<style scoped>\n",
       "    .dataframe tbody tr th:only-of-type {\n",
       "        vertical-align: middle;\n",
       "    }\n",
       "\n",
       "    .dataframe tbody tr th {\n",
       "        vertical-align: top;\n",
       "    }\n",
       "\n",
       "    .dataframe thead th {\n",
       "        text-align: right;\n",
       "    }\n",
       "</style>\n",
       "<table border=\"1\" class=\"dataframe\">\n",
       "  <thead>\n",
       "    <tr style=\"text-align: right;\">\n",
       "      <th></th>\n",
       "      <th>Film_Adı</th>\n",
       "      <th>Kategori</th>\n",
       "      <th>Derecelendirme</th>\n",
       "      <th>Süre</th>\n",
       "      <th>Bütçe</th>\n",
       "    </tr>\n",
       "  </thead>\n",
       "  <tbody>\n",
       "    <tr>\n",
       "      <th>4</th>\n",
       "      <td>Film 5</td>\n",
       "      <td>Aksiyon</td>\n",
       "      <td>6.5</td>\n",
       "      <td>100</td>\n",
       "      <td>3000000</td>\n",
       "    </tr>\n",
       "  </tbody>\n",
       "</table>\n",
       "</div>"
      ],
      "text/plain": [
       "  Film_Adı Kategori  Derecelendirme  Süre    Bütçe\n",
       "4   Film 5  Aksiyon             6.5   100  3000000"
      ]
     },
     "execution_count": 25,
     "metadata": {},
     "output_type": "execute_result"
    }
   ],
   "source": [
    "# print(\"En Yüksek Bütçeye Sahip Film:\\n\", df.loc[df['Bütçe'].idxmax()][[\"Film_Adı\", \"Bütçe\"]])\n",
    "\n",
    "print(\"\\nEn Yüksek Bütçeye Sahip Film:\")\n",
    "df[df[\"Bütçe\"] == df[\"Bütçe\"].max()]"
   ]
  },
  {
   "cell_type": "markdown",
   "id": "41cc3cb9",
   "metadata": {},
   "source": [
    "## Task3: En uzun süreli film ve en pahalı yapım hangileridir?"
   ]
  },
  {
   "cell_type": "code",
   "execution_count": 26,
   "id": "6b7d2a12",
   "metadata": {},
   "outputs": [
    {
     "data": {
      "text/plain": [
       "'En uzun süreli film: '"
      ]
     },
     "metadata": {},
     "output_type": "display_data"
    },
    {
     "data": {
      "text/html": [
       "<div>\n",
       "<style scoped>\n",
       "    .dataframe tbody tr th:only-of-type {\n",
       "        vertical-align: middle;\n",
       "    }\n",
       "\n",
       "    .dataframe tbody tr th {\n",
       "        vertical-align: top;\n",
       "    }\n",
       "\n",
       "    .dataframe thead th {\n",
       "        text-align: right;\n",
       "    }\n",
       "</style>\n",
       "<table border=\"1\" class=\"dataframe\">\n",
       "  <thead>\n",
       "    <tr style=\"text-align: right;\">\n",
       "      <th></th>\n",
       "      <th>Film_Adı</th>\n",
       "      <th>Süre</th>\n",
       "    </tr>\n",
       "  </thead>\n",
       "  <tbody>\n",
       "    <tr>\n",
       "      <th>3</th>\n",
       "      <td>Film 4</td>\n",
       "      <td>135.0</td>\n",
       "    </tr>\n",
       "  </tbody>\n",
       "</table>\n",
       "</div>"
      ],
      "text/plain": [
       "  Film_Adı   Süre\n",
       "3   Film 4  135.0"
      ]
     },
     "metadata": {},
     "output_type": "display_data"
    },
    {
     "data": {
      "text/plain": [
       "'En pahalı yapım: '"
      ]
     },
     "metadata": {},
     "output_type": "display_data"
    },
    {
     "data": {
      "text/html": [
       "<div>\n",
       "<style scoped>\n",
       "    .dataframe tbody tr th:only-of-type {\n",
       "        vertical-align: middle;\n",
       "    }\n",
       "\n",
       "    .dataframe tbody tr th {\n",
       "        vertical-align: top;\n",
       "    }\n",
       "\n",
       "    .dataframe thead th {\n",
       "        text-align: right;\n",
       "    }\n",
       "</style>\n",
       "<table border=\"1\" class=\"dataframe\">\n",
       "  <thead>\n",
       "    <tr style=\"text-align: right;\">\n",
       "      <th></th>\n",
       "      <th>Film_Adı</th>\n",
       "      <th>Bütçe</th>\n",
       "    </tr>\n",
       "  </thead>\n",
       "  <tbody>\n",
       "    <tr>\n",
       "      <th>4</th>\n",
       "      <td>Film 5</td>\n",
       "      <td>3000000.0</td>\n",
       "    </tr>\n",
       "  </tbody>\n",
       "</table>\n",
       "</div>"
      ],
      "text/plain": [
       "  Film_Adı      Bütçe\n",
       "4   Film 5  3000000.0"
      ]
     },
     "metadata": {},
     "output_type": "display_data"
    }
   ],
   "source": [
    "df['Süre'] = df['Süre'].astype(float)\n",
    "df[\"Bütçe\"] = df[\"Bütçe\"].astype(float)\n",
    "\n",
    "display(\"En uzun süreli film: \", df.loc[[df[\"Süre\"].idxmax()]][[\"Film_Adı\", \"Süre\"]])\n",
    "display(\"En pahalı yapım: \",  df.loc[[df[\"Bütçe\"].idxmax()]][[\"Film_Adı\", \"Bütçe\"]])"
   ]
  },
  {
   "cell_type": "markdown",
   "id": "ee4fad17",
   "metadata": {},
   "source": [
    "## Task 4: Aksiyon filmlerinin en uzunu hangisidir?"
   ]
  },
  {
   "cell_type": "code",
   "execution_count": 27,
   "id": "660272f8",
   "metadata": {},
   "outputs": [
    {
     "data": {
      "text/html": [
       "<div>\n",
       "<style scoped>\n",
       "    .dataframe tbody tr th:only-of-type {\n",
       "        vertical-align: middle;\n",
       "    }\n",
       "\n",
       "    .dataframe tbody tr th {\n",
       "        vertical-align: top;\n",
       "    }\n",
       "\n",
       "    .dataframe thead th {\n",
       "        text-align: right;\n",
       "    }\n",
       "</style>\n",
       "<table border=\"1\" class=\"dataframe\">\n",
       "  <thead>\n",
       "    <tr style=\"text-align: right;\">\n",
       "      <th></th>\n",
       "      <th>Film_Adı</th>\n",
       "      <th>Kategori</th>\n",
       "      <th>Derecelendirme</th>\n",
       "      <th>Süre</th>\n",
       "      <th>Bütçe</th>\n",
       "    </tr>\n",
       "  </thead>\n",
       "  <tbody>\n",
       "    <tr>\n",
       "      <th>0</th>\n",
       "      <td>Film 1</td>\n",
       "      <td>Aksiyon</td>\n",
       "      <td>6.7</td>\n",
       "      <td>120.0</td>\n",
       "      <td>1500000.0</td>\n",
       "    </tr>\n",
       "    <tr>\n",
       "      <th>4</th>\n",
       "      <td>Film 5</td>\n",
       "      <td>Aksiyon</td>\n",
       "      <td>6.5</td>\n",
       "      <td>100.0</td>\n",
       "      <td>3000000.0</td>\n",
       "    </tr>\n",
       "  </tbody>\n",
       "</table>\n",
       "</div>"
      ],
      "text/plain": [
       "  Film_Adı Kategori  Derecelendirme   Süre      Bütçe\n",
       "0   Film 1  Aksiyon             6.7  120.0  1500000.0\n",
       "4   Film 5  Aksiyon             6.5  100.0  3000000.0"
      ]
     },
     "execution_count": 27,
     "metadata": {},
     "output_type": "execute_result"
    }
   ],
   "source": [
    "df[(df[\"Kategori\"] == \"Aksiyon\")]"
   ]
  },
  {
   "cell_type": "code",
   "execution_count": 28,
   "id": "b48a12b6",
   "metadata": {},
   "outputs": [
    {
     "data": {
      "text/html": [
       "<div>\n",
       "<style scoped>\n",
       "    .dataframe tbody tr th:only-of-type {\n",
       "        vertical-align: middle;\n",
       "    }\n",
       "\n",
       "    .dataframe tbody tr th {\n",
       "        vertical-align: top;\n",
       "    }\n",
       "\n",
       "    .dataframe thead th {\n",
       "        text-align: right;\n",
       "    }\n",
       "</style>\n",
       "<table border=\"1\" class=\"dataframe\">\n",
       "  <thead>\n",
       "    <tr style=\"text-align: right;\">\n",
       "      <th></th>\n",
       "      <th>Film_Adı</th>\n",
       "      <th>Kategori</th>\n",
       "      <th>Derecelendirme</th>\n",
       "      <th>Süre</th>\n",
       "      <th>Bütçe</th>\n",
       "    </tr>\n",
       "  </thead>\n",
       "  <tbody>\n",
       "    <tr>\n",
       "      <th>0</th>\n",
       "      <td>Film 1</td>\n",
       "      <td>Aksiyon</td>\n",
       "      <td>6.7</td>\n",
       "      <td>120.0</td>\n",
       "      <td>1500000.0</td>\n",
       "    </tr>\n",
       "  </tbody>\n",
       "</table>\n",
       "</div>"
      ],
      "text/plain": [
       "  Film_Adı Kategori  Derecelendirme   Süre      Bütçe\n",
       "0   Film 1  Aksiyon             6.7  120.0  1500000.0"
      ]
     },
     "execution_count": 28,
     "metadata": {},
     "output_type": "execute_result"
    }
   ],
   "source": [
    "df_Aksiyon = df[(df[\"Kategori\"] == \"Aksiyon\")]\n",
    "\n",
    "df_Aksiyon.loc[df_Aksiyon[[\"Süre\"]].idxmax()]\n",
    "\n",
    "# df[(df[\"Kategori\"] == \"Aksiyon\")].loc[df[(df[\"Kategori\"] == \"Aksiyon\")][[\"Süre\"]].idxmax()]"
   ]
  },
  {
   "cell_type": "markdown",
   "id": "94f91030",
   "metadata": {},
   "source": [
    "## Task 5: Her kategorinin en uzun filmini bulun. (kategorileri seçmek için `for döngüsü` kullanın)"
   ]
  },
  {
   "cell_type": "code",
   "execution_count": 133,
   "id": "bd3866ff",
   "metadata": {},
   "outputs": [
    {
     "data": {
      "text/html": [
       "<div>\n",
       "<style scoped>\n",
       "    .dataframe tbody tr th:only-of-type {\n",
       "        vertical-align: middle;\n",
       "    }\n",
       "\n",
       "    .dataframe tbody tr th {\n",
       "        vertical-align: top;\n",
       "    }\n",
       "\n",
       "    .dataframe thead th {\n",
       "        text-align: right;\n",
       "    }\n",
       "</style>\n",
       "<table border=\"1\" class=\"dataframe\">\n",
       "  <thead>\n",
       "    <tr style=\"text-align: right;\">\n",
       "      <th></th>\n",
       "      <th>Film_Adı</th>\n",
       "      <th>Kategori</th>\n",
       "      <th>Derecelendirme</th>\n",
       "      <th>Süre</th>\n",
       "      <th>Bütçe</th>\n",
       "    </tr>\n",
       "  </thead>\n",
       "  <tbody>\n",
       "    <tr>\n",
       "      <th>0</th>\n",
       "      <td>Film 1</td>\n",
       "      <td>Aksiyon</td>\n",
       "      <td>PG-13</td>\n",
       "      <td>120.0</td>\n",
       "      <td>1500000.0</td>\n",
       "    </tr>\n",
       "    <tr>\n",
       "      <th>1</th>\n",
       "      <td>Film 2</td>\n",
       "      <td>Drama</td>\n",
       "      <td>R</td>\n",
       "      <td>105.0</td>\n",
       "      <td>500000.0</td>\n",
       "    </tr>\n",
       "    <tr>\n",
       "      <th>2</th>\n",
       "      <td>Film 3</td>\n",
       "      <td>Komedi</td>\n",
       "      <td>PG</td>\n",
       "      <td>90.0</td>\n",
       "      <td>2000000.0</td>\n",
       "    </tr>\n",
       "    <tr>\n",
       "      <th>3</th>\n",
       "      <td>Film 4</td>\n",
       "      <td>Drama</td>\n",
       "      <td>R</td>\n",
       "      <td>135.0</td>\n",
       "      <td>1000000.0</td>\n",
       "    </tr>\n",
       "    <tr>\n",
       "      <th>4</th>\n",
       "      <td>Film 5</td>\n",
       "      <td>Aksiyon</td>\n",
       "      <td>PG-13</td>\n",
       "      <td>100.0</td>\n",
       "      <td>3000000.0</td>\n",
       "    </tr>\n",
       "  </tbody>\n",
       "</table>\n",
       "</div>"
      ],
      "text/plain": [
       "  Film_Adı Kategori Derecelendirme   Süre      Bütçe\n",
       "0   Film 1  Aksiyon          PG-13  120.0  1500000.0\n",
       "1   Film 2    Drama              R  105.0   500000.0\n",
       "2   Film 3   Komedi             PG   90.0  2000000.0\n",
       "3   Film 4    Drama              R  135.0  1000000.0\n",
       "4   Film 5  Aksiyon          PG-13  100.0  3000000.0"
      ]
     },
     "execution_count": 133,
     "metadata": {},
     "output_type": "execute_result"
    }
   ],
   "source": [
    "df"
   ]
  },
  {
   "cell_type": "code",
   "execution_count": 29,
   "id": "ea63b2ed",
   "metadata": {},
   "outputs": [
    {
     "data": {
      "text/plain": [
       "array(['Aksiyon', 'Drama', 'Komedi', 'Drama', 'Aksiyon'], dtype=object)"
      ]
     },
     "execution_count": 29,
     "metadata": {},
     "output_type": "execute_result"
    }
   ],
   "source": [
    "categories = df[\"Kategori\"].values\n",
    "categories"
   ]
  },
  {
   "cell_type": "code",
   "execution_count": 30,
   "id": "6dcf6108",
   "metadata": {},
   "outputs": [
    {
     "name": "stdout",
     "output_type": "stream",
     "text": [
      "Aksiyon kategorisinde en uzun süreli film: \n"
     ]
    },
    {
     "data": {
      "text/plain": [
       "Film_Adı    Film 1\n",
       "Süre         120.0\n",
       "Name: 0, dtype: object"
      ]
     },
     "metadata": {},
     "output_type": "display_data"
    },
    {
     "name": "stdout",
     "output_type": "stream",
     "text": [
      "----------------------------------------\n",
      "Drama kategorisinde en uzun süreli film: \n"
     ]
    },
    {
     "data": {
      "text/plain": [
       "Film_Adı    Film 4\n",
       "Süre         135.0\n",
       "Name: 3, dtype: object"
      ]
     },
     "metadata": {},
     "output_type": "display_data"
    },
    {
     "name": "stdout",
     "output_type": "stream",
     "text": [
      "----------------------------------------\n",
      "Komedi kategorisinde en uzun süreli film: \n"
     ]
    },
    {
     "data": {
      "text/plain": [
       "Film_Adı    Film 3\n",
       "Süre          90.0\n",
       "Name: 2, dtype: object"
      ]
     },
     "metadata": {},
     "output_type": "display_data"
    },
    {
     "name": "stdout",
     "output_type": "stream",
     "text": [
      "----------------------------------------\n",
      "Drama kategorisinde en uzun süreli film: \n"
     ]
    },
    {
     "data": {
      "text/plain": [
       "Film_Adı    Film 4\n",
       "Süre         135.0\n",
       "Name: 3, dtype: object"
      ]
     },
     "metadata": {},
     "output_type": "display_data"
    },
    {
     "name": "stdout",
     "output_type": "stream",
     "text": [
      "----------------------------------------\n",
      "Aksiyon kategorisinde en uzun süreli film: \n"
     ]
    },
    {
     "data": {
      "text/plain": [
       "Film_Adı    Film 1\n",
       "Süre         120.0\n",
       "Name: 0, dtype: object"
      ]
     },
     "metadata": {},
     "output_type": "display_data"
    },
    {
     "name": "stdout",
     "output_type": "stream",
     "text": [
      "----------------------------------------\n"
     ]
    }
   ],
   "source": [
    "for i in categories:\n",
    "    print(f\"{i} kategorisinde en uzun süreli film: \")\n",
    "    display(df.loc[df[df[\"Kategori\"] == i][\"Süre\"].idxmax(), [\"Film_Adı\", \"Süre\"]])\n",
    "    print(\"----\" * 10)"
   ]
  },
  {
   "cell_type": "markdown",
   "id": "a16f156a",
   "metadata": {},
   "source": [
    "## Task 6: Her kategorinin ortalama süre ve ortalama Bütçesini bulun: (kategorileri seçmek için `for döngüsü` kullanın)"
   ]
  },
  {
   "cell_type": "code",
   "execution_count": 152,
   "id": "1f3e4a85",
   "metadata": {},
   "outputs": [
    {
     "name": "stdout",
     "output_type": "stream",
     "text": [
      "Aksiyon kategorisinin süre ortalaması : \n"
     ]
    },
    {
     "data": {
      "text/plain": [
       "110.0"
      ]
     },
     "metadata": {},
     "output_type": "display_data"
    },
    {
     "name": "stdout",
     "output_type": "stream",
     "text": [
      "Aksiyon kategorisinin süre ortalaması : \n"
     ]
    },
    {
     "data": {
      "text/plain": [
       "2250000.0"
      ]
     },
     "metadata": {},
     "output_type": "display_data"
    },
    {
     "name": "stdout",
     "output_type": "stream",
     "text": [
      "----------------------------------------\n",
      "Drama kategorisinin süre ortalaması : \n"
     ]
    },
    {
     "data": {
      "text/plain": [
       "120.0"
      ]
     },
     "metadata": {},
     "output_type": "display_data"
    },
    {
     "name": "stdout",
     "output_type": "stream",
     "text": [
      "Drama kategorisinin süre ortalaması : \n"
     ]
    },
    {
     "data": {
      "text/plain": [
       "750000.0"
      ]
     },
     "metadata": {},
     "output_type": "display_data"
    },
    {
     "name": "stdout",
     "output_type": "stream",
     "text": [
      "----------------------------------------\n",
      "Komedi kategorisinin süre ortalaması : \n"
     ]
    },
    {
     "data": {
      "text/plain": [
       "90.0"
      ]
     },
     "metadata": {},
     "output_type": "display_data"
    },
    {
     "name": "stdout",
     "output_type": "stream",
     "text": [
      "Komedi kategorisinin süre ortalaması : \n"
     ]
    },
    {
     "data": {
      "text/plain": [
       "2000000.0"
      ]
     },
     "metadata": {},
     "output_type": "display_data"
    },
    {
     "name": "stdout",
     "output_type": "stream",
     "text": [
      "----------------------------------------\n",
      "Drama kategorisinin süre ortalaması : \n"
     ]
    },
    {
     "data": {
      "text/plain": [
       "120.0"
      ]
     },
     "metadata": {},
     "output_type": "display_data"
    },
    {
     "name": "stdout",
     "output_type": "stream",
     "text": [
      "Drama kategorisinin süre ortalaması : \n"
     ]
    },
    {
     "data": {
      "text/plain": [
       "750000.0"
      ]
     },
     "metadata": {},
     "output_type": "display_data"
    },
    {
     "name": "stdout",
     "output_type": "stream",
     "text": [
      "----------------------------------------\n",
      "Aksiyon kategorisinin süre ortalaması : \n"
     ]
    },
    {
     "data": {
      "text/plain": [
       "110.0"
      ]
     },
     "metadata": {},
     "output_type": "display_data"
    },
    {
     "name": "stdout",
     "output_type": "stream",
     "text": [
      "Aksiyon kategorisinin süre ortalaması : \n"
     ]
    },
    {
     "data": {
      "text/plain": [
       "2250000.0"
      ]
     },
     "metadata": {},
     "output_type": "display_data"
    },
    {
     "name": "stdout",
     "output_type": "stream",
     "text": [
      "----------------------------------------\n"
     ]
    }
   ],
   "source": [
    "for i in categories:\n",
    "    print(f\"{i} kategorisinin süre ortalaması : \")\n",
    "    display(df[df[\"Kategori\"] == i][\"Süre\"].mean())\n",
    "    print(f\"{i} kategorisinin süre ortalaması : \")\n",
    "    display(df[df[\"Kategori\"] == i][\"Bütçe\"].mean())\n",
    "    print(\"----\" * 10)"
   ]
  }
 ],
 "metadata": {
  "kernelspec": {
   "display_name": "Python 3 (ipykernel)",
   "language": "python",
   "name": "python3"
  },
  "language_info": {
   "codemirror_mode": {
    "name": "ipython",
    "version": 3
   },
   "file_extension": ".py",
   "mimetype": "text/x-python",
   "name": "python",
   "nbconvert_exporter": "python",
   "pygments_lexer": "ipython3",
   "version": "3.9.12"
  }
 },
 "nbformat": 4,
 "nbformat_minor": 5
}
