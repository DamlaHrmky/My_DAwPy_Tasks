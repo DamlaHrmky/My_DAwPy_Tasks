{
 "cells": [
  {
   "cell_type": "markdown",
   "id": "bce91a80",
   "metadata": {
    "deletable": false,
    "editable": false
   },
   "source": [
    "<a href=\"https://clarusway.com/contact-us/\"><img align=\"center\" src=\"https://i.ibb.co/B43qn24/officially-licensed-logo.png\" alt=\"Open in Clarusway LMS\" width=\"110\" height=\"200\" title=\"This notebook is licensed by Clarusway IT training school. Please contact the authorized persons about the conditions under which you can use or share.\"></a>"
   ]
  },
  {
   "cell_type": "markdown",
   "id": "8648deeb",
   "metadata": {},
   "source": [
    "<hr>\n",
    "\n",
    "<a href=\"https://lms.clarusway.com/mod/lesson/view.php?id=2463&pageid=4531&startlastseen=no\"><img align=\"center\" src=\"https://i.ibb.co/6Z5pQxD/lmss.png\" alt=\"Open in Clarusway LMS\" width=\"70\" height=\"200\" title=\"Open Clarusway Learning Management Sytem\"></a>\n",
    "\n",
    "<a href=\"https://github.com/clarusway/DS-DE-0322-Students/blob/main/3-%20Classes%26Labs/2-DAwPY/DAwPy_S01_(Numpy_Arrays).ipynb\"><img align=\"left\" src=\"https://i.ibb.co/n3HWyQX/github-logo.png\" alt=\"Open in Clarusway GitHub\" width=\"90\" height=\"150\" title=\"Open and Execute in Clarusway GitHub Repository\"></a>\n",
    "\n",
    "<a href=\"https://nbviewer.org/github/4dsolutions/clarusway_data_analysis/blob/main/DAwPy_S1_%28Numpy_Arrays%29/DAwPy_S1_%28Numpy_Arrays%29.ipynb\"><img align=\"right\" src=\"https://i.ibb.co/48wtV8c/nbviewer-badge.png\" alt=\"Open in nbviewer\" width=\"100\" height=\"100\" title=\"Open and Execute in nbviewer\"></a><br/>\n",
    "\n",
    "<hr>\n",
    "\n",
    "<p style=\"text-align: center;\"><img src=\"https://i.ibb.co/Rpz9L36/clarusway-logo-black.png\" width=\"500\" height=\"200\" class=\"img-fluid\" alt=\"CLRSWY_LOGO\"></p>\n",
    "\n",
    "<p style=\"text-align: center;\"><img src=\"https://i.ibb.co/XS0bxSH/best-bootcamps.png\" width=\"300\" height=\"200\" class=\"img-fluid\" alt=\"CLRSWY_LOGO\"></p>\n",
    "\n",
    "<p style=\"background-color:#E51A59; font-family:newtimeroman; color:#FDFEFE; font-size:130%; text-align:center; border-radius:10px 10px;\">WAY TO REINVENT YOURSELF</p>\n",
    "\n",
    "<p style=\"text-align: center;\"><img src=\"https://i.ibb.co/99DQ3TY/DS-Courses.png\" class=\"img-fluid\" \n",
    "alt=\"CLRSWY_Courses\"></p>"
   ]
  },
  {
   "cell_type": "markdown",
   "id": "a487007e",
   "metadata": {
    "id": "wGIwWxbXrbsZ"
   },
   "source": [
    "# <p style=\"background-color:#9d4f8c; font-family:newtimeroman; color:#FFF9ED; font-size:150%; text-align:LEFT; border-radius:10px 10px;\">Tasks for Session-1</p>"
   ]
  },
  {
   "cell_type": "code",
   "execution_count": 1,
   "id": "efaa2c96",
   "metadata": {},
   "outputs": [],
   "source": [
    "import numpy as np"
   ]
  },
  {
   "cell_type": "markdown",
   "id": "2d3b4cae",
   "metadata": {},
   "source": [
    "## Task 1 : Task: Random Matrix Generation and Operations:\n",
    "\n",
    "### 1a. Generate a 4x4 matrix filled with random values."
   ]
  },
  {
   "cell_type": "code",
   "execution_count": 2,
   "id": "aeae8755",
   "metadata": {},
   "outputs": [
    {
     "data": {
      "text/plain": [
       "array([[0.5834853 , 0.76604735, 0.32304425, 0.75985418],\n",
       "       [0.53596343, 0.55703288, 0.38746523, 0.81513161],\n",
       "       [0.05702913, 0.77887421, 0.54776028, 0.77977014],\n",
       "       [0.17991057, 0.49002502, 0.96441255, 0.00214067]])"
      ]
     },
     "execution_count": 2,
     "metadata": {},
     "output_type": "execute_result"
    }
   ],
   "source": [
    "matrix = np.random.rand(4, 4)\n",
    "matrix"
   ]
  },
  {
   "cell_type": "markdown",
   "id": "67e6e628",
   "metadata": {},
   "source": [
    "### 1b. Calculate the row sums of the matrix."
   ]
  },
  {
   "cell_type": "code",
   "execution_count": 3,
   "id": "7c0dc035",
   "metadata": {},
   "outputs": [
    {
     "data": {
      "text/plain": [
       "array([2.43243108, 2.29559316, 2.16343376, 1.63648881])"
      ]
     },
     "execution_count": 3,
     "metadata": {},
     "output_type": "execute_result"
    }
   ],
   "source": [
    "np.sum(matrix, axis=1)"
   ]
  },
  {
   "cell_type": "markdown",
   "id": "bab83ab1",
   "metadata": {},
   "source": [
    "### 1c. Calculate the column means of the matrix."
   ]
  },
  {
   "cell_type": "code",
   "execution_count": 4,
   "id": "8e5af676",
   "metadata": {},
   "outputs": [
    {
     "data": {
      "text/plain": [
       "array([0.33909711, 0.64799486, 0.55567058, 0.58922415])"
      ]
     },
     "execution_count": 4,
     "metadata": {},
     "output_type": "execute_result"
    }
   ],
   "source": [
    "np.mean(matrix, axis=0)"
   ]
  },
  {
   "cell_type": "markdown",
   "id": "726b4bef",
   "metadata": {},
   "source": [
    "### 1d. Find the sum of the diagonal elements of the matrix."
   ]
  },
  {
   "cell_type": "code",
   "execution_count": 5,
   "id": "230772a5",
   "metadata": {},
   "outputs": [
    {
     "data": {
      "text/plain": [
       "1.6904191396092152"
      ]
     },
     "execution_count": 5,
     "metadata": {},
     "output_type": "execute_result"
    }
   ],
   "source": [
    "np.trace(matrix)"
   ]
  },
  {
   "cell_type": "markdown",
   "id": "ac2ea67c",
   "metadata": {},
   "source": [
    "## Task 2: Array Sorting and Indexing:\n",
    "\n",
    "### 2a. Create an array of random numbers from 1 to 20."
   ]
  },
  {
   "cell_type": "code",
   "execution_count": 6,
   "id": "d9995a42",
   "metadata": {},
   "outputs": [
    {
     "data": {
      "text/plain": [
       "array([20, 13, 14,  1, 10,  3, 16, 16, 13, 15])"
      ]
     },
     "execution_count": 6,
     "metadata": {},
     "output_type": "execute_result"
    }
   ],
   "source": [
    "array = np.random.randint(1, 21, size=10)\n",
    "array"
   ]
  },
  {
   "cell_type": "markdown",
   "id": "05a31092",
   "metadata": {},
   "source": [
    "### 2b. Sort the array in descending order."
   ]
  },
  {
   "cell_type": "code",
   "execution_count": 7,
   "id": "38841e34",
   "metadata": {},
   "outputs": [
    {
     "data": {
      "text/plain": [
       "array([20, 16, 16, 15, 14, 13, 13, 10,  3,  1])"
      ]
     },
     "execution_count": 7,
     "metadata": {},
     "output_type": "execute_result"
    }
   ],
   "source": [
    "np.sort(array)[::-1]"
   ]
  },
  {
   "cell_type": "markdown",
   "id": "cb37fa91",
   "metadata": {},
   "source": [
    "### 2c. Find the minimum and maximum elements of the array."
   ]
  },
  {
   "cell_type": "code",
   "execution_count": 8,
   "id": "37723f8e",
   "metadata": {},
   "outputs": [
    {
     "name": "stdout",
     "output_type": "stream",
     "text": [
      "Minimum element: 1\n",
      "Maximum element: 20\n"
     ]
    }
   ],
   "source": [
    "min_element = np.min(array)\n",
    "max_element = np.max(array)\n",
    "\n",
    "print(\"Minimum element:\", min_element)\n",
    "print(\"Maximum element:\", max_element)"
   ]
  },
  {
   "cell_type": "markdown",
   "id": "1583798a",
   "metadata": {},
   "source": [
    "### 2d. Select the first half of the array (the first 10 elements) and reverse them."
   ]
  },
  {
   "cell_type": "code",
   "execution_count": 9,
   "id": "716f9f4c",
   "metadata": {},
   "outputs": [
    {
     "name": "stdout",
     "output_type": "stream",
     "text": [
      "[20 13 14  1 10  3 16 16 13 15]\n",
      "[10  1 14 13 20]\n"
     ]
    }
   ],
   "source": [
    "half_array = array[:len(array)//2]\n",
    "\n",
    "reversed_half_array = half_array[::-1]\n",
    "\n",
    "print(array)\n",
    "print(reversed_half_array)"
   ]
  },
  {
   "cell_type": "markdown",
   "id": "9562b807",
   "metadata": {},
   "source": [
    "## Task 3: Convert the Arrays:\n",
    "\n",
    "### 3a. Create an array with elements [-1, 0, 1, 2, 3]."
   ]
  },
  {
   "cell_type": "code",
   "execution_count": 10,
   "id": "fe08dab4",
   "metadata": {},
   "outputs": [
    {
     "data": {
      "text/plain": [
       "array([-1,  0,  1,  2,  3])"
      ]
     },
     "execution_count": 10,
     "metadata": {},
     "output_type": "execute_result"
    }
   ],
   "source": [
    "array = np.array([-1, 0, 1, 2, 3])\n",
    "array"
   ]
  },
  {
   "cell_type": "code",
   "execution_count": 11,
   "id": "021487ab",
   "metadata": {},
   "outputs": [
    {
     "data": {
      "text/plain": [
       "(5,)"
      ]
     },
     "execution_count": 11,
     "metadata": {},
     "output_type": "execute_result"
    }
   ],
   "source": [
    "array.shape"
   ]
  },
  {
   "cell_type": "markdown",
   "id": "75b3b731",
   "metadata": {},
   "source": [
    "### 3b. Convert the array into a matrix and square each element."
   ]
  },
  {
   "cell_type": "code",
   "execution_count": 12,
   "id": "458a8467",
   "metadata": {},
   "outputs": [
    {
     "name": "stdout",
     "output_type": "stream",
     "text": [
      "[[-1  0  1  2  3]]\n",
      "[[1 0 1 4 9]]\n"
     ]
    }
   ],
   "source": [
    "matrix = np.reshape(array, (1, -1))\n",
    "# matrix = np.matrix(array)  # alternative solution\n",
    "print(matrix)\n",
    "\n",
    "squared_matrix = np.square(matrix)\n",
    "print(squared_matrix)"
   ]
  },
  {
   "cell_type": "markdown",
   "id": "2a112350",
   "metadata": {},
   "source": [
    "### 3c. Convert the matrix back to a one-dimensional array."
   ]
  },
  {
   "cell_type": "code",
   "execution_count": 13,
   "id": "637972f5",
   "metadata": {},
   "outputs": [
    {
     "data": {
      "text/plain": [
       "array([-1,  0,  1,  2,  3])"
      ]
     },
     "execution_count": 13,
     "metadata": {},
     "output_type": "execute_result"
    }
   ],
   "source": [
    "np.reshape(array, (5,))"
   ]
  },
  {
   "cell_type": "markdown",
   "id": "df2545dd",
   "metadata": {},
   "source": [
    "### 3d. Convert each element of the array to its absolute value"
   ]
  },
  {
   "cell_type": "code",
   "execution_count": 14,
   "id": "47de9640",
   "metadata": {},
   "outputs": [
    {
     "data": {
      "text/plain": [
       "array([1, 0, 1, 2, 3])"
      ]
     },
     "execution_count": 14,
     "metadata": {},
     "output_type": "execute_result"
    }
   ],
   "source": [
    "abs_array = np.abs(array)\n",
    "abs_array"
   ]
  },
  {
   "cell_type": "markdown",
   "id": "b230f5d7",
   "metadata": {},
   "source": [
    "<hr>\n",
    "\n",
    "## <p style=\"background-color:#FDFEFE; font-family:newtimeroman; color:#9d4f8c; font-size:150%; text-align:center; border-radius:10px 10px;\">The End of Task</p>\n",
    "\n",
    "\n",
    "<p style=\"text-align: center;\"><img src=\"https://i.ibb.co/99DQ3TY/DS-Courses.png\" class=\"img-fluid\" \n",
    "alt=\"CLRSWY\"></p>\n",
    "\n",
    "\n",
    "<br><br><br>\n",
    "\n",
    "<p style=\"text-align: center;\"><img src=\"https://i.ibb.co/Rpz9L36/clarusway-logo-black.png\" width=\"450\" height=\"200\" class=\"img-fluid\" alt=\"CLRSWY_LOGO\"></p>\n",
    "\n",
    "<p style=\"background-color:#E51A59; font-family:newtimeroman; color:#FDFEFE; font-size:130%; text-align:center; border-radius:10px 10px;\">WAY TO REINVENT YOURSELF</p>"
   ]
  },
  {
   "cell_type": "markdown",
   "id": "48b128c8",
   "metadata": {
    "deletable": false,
    "editable": false
   },
   "source": [
    "<a href=\"https://clarusway.com/contact-us/\"><img align=\"center\" src=\"https://i.ibb.co/B43qn24/officially-licensed-logo.png\" alt=\"Open in Clarusway LMS\" width=\"110\" height=\"200\" title=\"This notebook is licensed by Clarusway IT training school. Please contact the authorized persons about the conditions under which you can use or share.\"></a>"
   ]
  }
 ],
 "metadata": {
  "kernelspec": {
   "display_name": "Python 3 (ipykernel)",
   "language": "python",
   "name": "python3"
  },
  "language_info": {
   "codemirror_mode": {
    "name": "ipython",
    "version": 3
   },
   "file_extension": ".py",
   "mimetype": "text/x-python",
   "name": "python",
   "nbconvert_exporter": "python",
   "pygments_lexer": "ipython3",
   "version": "3.11.5"
  },
  "toc": {
   "base_numbering": 1,
   "nav_menu": {},
   "number_sections": false,
   "sideBar": true,
   "skip_h1_title": false,
   "title_cell": "Table of Contents",
   "title_sidebar": "Contents",
   "toc_cell": false,
   "toc_position": {},
   "toc_section_display": true,
   "toc_window_display": true
  }
 },
 "nbformat": 4,
 "nbformat_minor": 5
}
