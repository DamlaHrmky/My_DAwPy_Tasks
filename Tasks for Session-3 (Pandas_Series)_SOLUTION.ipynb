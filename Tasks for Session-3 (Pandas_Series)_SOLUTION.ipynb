{
 "cells": [
  {
   "cell_type": "code",
   "execution_count": null,
   "id": "b9245d32",
   "metadata": {},
   "outputs": [],
   "source": []
  },
  {
   "cell_type": "code",
   "execution_count": 14,
   "id": "630b2180",
   "metadata": {},
   "outputs": [],
   "source": [
    "import numpy as np\n",
    "import pandas as pd"
   ]
  },
  {
   "cell_type": "markdown",
   "id": "56e0dc7e",
   "metadata": {},
   "source": [
    "## Task1: \n",
    "**Develop a program that allows entering student numbers and grades in a university, and then calculates the `count`, `sum`, `maximum`, `minimum`, and average of the entered grades.**<br>\n",
    "**Store the student numbers and grades in a pandas Series called `students`**"
   ]
  },
  {
   "cell_type": "code",
   "execution_count": 85,
   "id": "4c8a546e",
   "metadata": {},
   "outputs": [
    {
     "name": "stderr",
     "output_type": "stream",
     "text": [
      "C:\\Users\\edwin\\AppData\\Local\\Temp\\ipykernel_16600\\3955410665.py:2: FutureWarning: The default dtype for empty Series will be 'object' instead of 'float64' in a future version. Specify a dtype explicitly to silence this warning.\n",
      "  students = pd.Series(name=\"students\")\n"
     ]
    },
    {
     "name": "stdout",
     "output_type": "stream",
     "text": [
      "Öğrenci numarasını girin (Çıkmak için 'q' tuşuna basın): 101\n",
      "Öğrenci notunu girin: 90\n",
      "Öğrenci numarasını girin (Çıkmak için 'q' tuşuna basın): 102\n",
      "Öğrenci notunu girin: 86\n",
      "Öğrenci numarasını girin (Çıkmak için 'q' tuşuna basın): 103\n",
      "Öğrenci notunu girin: 98\n",
      "Öğrenci numarasını girin (Çıkmak için 'q' tuşuna basın): 104\n",
      "Öğrenci notunu girin: 48\n",
      "Öğrenci numarasını girin (Çıkmak için 'q' tuşuna basın): 105\n",
      "Öğrenci notunu girin: 72\n",
      "Öğrenci numarasını girin (Çıkmak için 'q' tuşuna basın): 106\n",
      "Öğrenci notunu girin: 60\n",
      "Öğrenci numarasını girin (Çıkmak için 'q' tuşuna basın): 107\n",
      "Öğrenci notunu girin: 83\n",
      "Öğrenci numarasını girin (Çıkmak için 'q' tuşuna basın): 108\n",
      "Öğrenci notunu girin: 80\n",
      "Öğrenci numarasını girin (Çıkmak için 'q' tuşuna basın): 109\n",
      "Öğrenci notunu girin: 55\n",
      "Öğrenci numarasını girin (Çıkmak için 'q' tuşuna basın): 110\n",
      "Öğrenci notunu girin: 35\n",
      "Öğrenci numarasını girin (Çıkmak için 'q' tuşuna basın): 111\n",
      "Öğrenci notunu girin: 88\n",
      "Öğrenci numarasını girin (Çıkmak için 'q' tuşuna basın): 112\n",
      "Öğrenci notunu girin: 75\n",
      "Öğrenci numarasını girin (Çıkmak için 'q' tuşuna basın): q\n",
      "\n",
      "Öğrenci numara ve notları aşağıdaki gibidir:\n",
      "\n",
      "101    90.0\n",
      "102    86.0\n",
      "103    98.0\n",
      "104    48.0\n",
      "105    72.0\n",
      "106    60.0\n",
      "107    83.0\n",
      "108    80.0\n",
      "109    55.0\n",
      "110    35.0\n",
      "111    88.0\n",
      "112    75.0\n",
      "Name: students, dtype: float64\n",
      "\n",
      "Öğrenci bilgileri başarıyla kaydedildi.\n",
      "Bu notalara ait bilgiler aşağıdadır:\n",
      "\n",
      "\n",
      "Öğrenci Sayısı: 12\n",
      "En Yüksek Not: 98.0\n",
      "En Düşük Not: 35.0\n",
      "Notların Toplamı: 870.0\n",
      "Not Ortalaması: 72.5\n"
     ]
    }
   ],
   "source": [
    "# Seriyi oluştur:\n",
    "students = pd.Series(name=\"students\")\n",
    "\n",
    "# Kullanıcıdan öğrenci numaralarını ve notlarını alarak Seriye ekle:\n",
    "while True:\n",
    "    stu_no = input(\"Öğrenci numarasını girin (Çıkmak için 'q' tuşuna basın): \")\n",
    "    \n",
    "    if stu_no.lower() == \"q\":\n",
    "        break\n",
    "    \n",
    "    stu_grade = float(input(\"Öğrenci notunu girin: \"))\n",
    "    \n",
    "    students[stu_no] = stu_grade\n",
    "\n",
    "print(\"\\nÖğrenci numara ve notları aşağıdaki gibidir:\\n\")\n",
    "print(students)\n",
    "\n",
    "print(\"\\nÖğrenci bilgileri başarıyla kaydedildi.\\nBu notalara ait bilgiler aşağıdadır:\\n\")\n",
    "print(f\"Öğrenci Sayısı: {len(students)}\")\n",
    "print(f\"En Yüksek Not: {students.max()}\")\n",
    "print(f\"En Düşük Not: {students.min()}\")\n",
    "print(f\"Notların Toplamı: {students.sum()}\")\n",
    "print(f\"Not Ortalaması: {students.mean()}\")\n"
   ]
  },
  {
   "cell_type": "markdown",
   "id": "0342bfdf",
   "metadata": {},
   "source": [
    "## Task2:\n",
    "**Write a program that uses conditional selection to create a new Series,**\n",
    "where grades greater than 95 are classified as 'A+',<br>\n",
    "grades between 90 and 95 (inclusive) are classified as 'A',<br>\n",
    "grades between 85 and 90 (exclusive) are classified as 'B+',<br>\n",
    "grades between 80 and 85 (exclusive) are classified as 'B',<br>\n",
    "grades between 75 and 80 (inclusive) are classified as 'C+',<br>\n",
    "grades between 70 and 75 (inclusive) are classified as 'C',<br>\n",
    "grades between 60 and 70 (inclusive) are classified as 'D',<br>\n",
    "and grades less than 60 are classified as 'E'.**"
   ]
  },
  {
   "cell_type": "code",
   "execution_count": 175,
   "id": "a5692d72",
   "metadata": {
    "scrolled": true
   },
   "outputs": [
    {
     "data": {
      "text/plain": [
       "101    90.0\n",
       "102    86.0\n",
       "103    98.0\n",
       "104    48.0\n",
       "105    72.0\n",
       "106    60.0\n",
       "107    83.0\n",
       "108    80.0\n",
       "109    55.0\n",
       "110    35.0\n",
       "111    88.0\n",
       "112    75.0\n",
       "Name: students, dtype: float64"
      ]
     },
     "execution_count": 175,
     "metadata": {},
     "output_type": "execute_result"
    }
   ],
   "source": [
    "# students serisini diğer çözümlerde kullanacağımızdan orinal halini koruyalım:\n",
    "\n",
    "students2 = students.copy()\n",
    "students2"
   ]
  },
  {
   "cell_type": "markdown",
   "id": "fa90e89f",
   "metadata": {},
   "source": [
    "**biraz serinin indeksi üzerinde çalışma yapalım:**"
   ]
  },
  {
   "cell_type": "code",
   "execution_count": 176,
   "id": "1d1a18c1",
   "metadata": {},
   "outputs": [
    {
     "data": {
      "text/plain": [
       "103    98.0\n",
       "Name: students, dtype: float64"
      ]
     },
     "execution_count": 176,
     "metadata": {},
     "output_type": "execute_result"
    }
   ],
   "source": [
    "students2[students2 > 95]"
   ]
  },
  {
   "cell_type": "code",
   "execution_count": 177,
   "id": "91790452",
   "metadata": {},
   "outputs": [
    {
     "data": {
      "text/plain": [
       "Index(['103'], dtype='object')"
      ]
     },
     "execution_count": 177,
     "metadata": {},
     "output_type": "execute_result"
    }
   ],
   "source": [
    "students2[students2 > 95].index"
   ]
  },
  {
   "cell_type": "code",
   "execution_count": 178,
   "id": "b5124222",
   "metadata": {},
   "outputs": [
    {
     "data": {
      "text/plain": [
       "'103'"
      ]
     },
     "execution_count": 178,
     "metadata": {},
     "output_type": "execute_result"
    }
   ],
   "source": [
    "students2[students2 > 95].index[0]"
   ]
  },
  {
   "cell_type": "markdown",
   "id": "487eae25",
   "metadata": {},
   "source": [
    "**çözüme geçelim. For döngüsünde kontrol sağlayacağız.**"
   ]
  },
  {
   "cell_type": "code",
   "execution_count": 179,
   "id": "f78af8ef",
   "metadata": {},
   "outputs": [
    {
     "data": {
      "text/plain": [
       "['101',\n",
       " '102',\n",
       " '103',\n",
       " '104',\n",
       " '105',\n",
       " '106',\n",
       " '107',\n",
       " '108',\n",
       " '109',\n",
       " '110',\n",
       " '111',\n",
       " '112']"
      ]
     },
     "execution_count": 179,
     "metadata": {},
     "output_type": "execute_result"
    }
   ],
   "source": [
    "stu_index_list = students2.index.tolist()  \n",
    "stu_index_list\n",
    "\n",
    "# Not: for döngüsünde kullanmak için tolist() ile liste içine almaya gerek yok."
   ]
  },
  {
   "cell_type": "code",
   "execution_count": 180,
   "id": "ab6ec7b4",
   "metadata": {},
   "outputs": [
    {
     "name": "stdout",
     "output_type": "stream",
     "text": [
      "101     A\n",
      "102    B+\n",
      "103    A+\n",
      "104     E\n",
      "105     C\n",
      "106     D\n",
      "107     B\n",
      "108     B\n",
      "109     E\n",
      "110     E\n",
      "111    B+\n",
      "112    C+\n",
      "Name: students, dtype: object\n"
     ]
    }
   ],
   "source": [
    "# for i in stu_index_list:\n",
    "    \n",
    "for i in students2.index:\n",
    "\n",
    "    students2[i] = 'A+' if students2[i] > 95 else 'A' if students2[i] >= 90 else 'B+' if students2[i] >= 85\\\n",
    "                        else 'B' if students2[i] >= 80 else 'C+' if students2[i] >= 75 else 'C' if students2[i] >= 70\\\n",
    "                        else 'D' if students2[i] >= 60 else 'E'\n",
    "            \n",
    "print(students2)"
   ]
  },
  {
   "cell_type": "markdown",
   "id": "3f7e391b",
   "metadata": {},
   "source": [
    "**For döngüsü kullanmadan yapalım:**"
   ]
  },
  {
   "cell_type": "code",
   "execution_count": 181,
   "id": "6804e3b7",
   "metadata": {},
   "outputs": [
    {
     "data": {
      "text/plain": [
       "101     A\n",
       "102    B+\n",
       "103    A+\n",
       "104     E\n",
       "105     C\n",
       "106     D\n",
       "107     B\n",
       "108     B\n",
       "109     E\n",
       "110     E\n",
       "111    B+\n",
       "112    C+\n",
       "dtype: object"
      ]
     },
     "execution_count": 181,
     "metadata": {},
     "output_type": "execute_result"
    }
   ],
   "source": [
    "converted_list = ['A+' if grade > 95 else 'A' if grade >= 90 else 'B+' if grade >= 85 \n",
    "                        else 'B' if grade >= 80 else 'C+' if grade >= 75 else 'C' if grade >= 70 \n",
    "                        else 'D' if grade >= 60 else 'E' for grade in students]\n",
    "\n",
    "\n",
    "# Use conditional selection to assign grade categories based on grade intervals\n",
    "new_grades = pd.Series(converted_list, index = students.index)\n",
    "new_grades"
   ]
  },
  {
   "cell_type": "markdown",
   "id": "5ada768d",
   "metadata": {},
   "source": [
    "## Task3:\n",
    "\n",
    "**Solve the same task using the `np.select()` function.**"
   ]
  },
  {
   "cell_type": "code",
   "execution_count": 38,
   "id": "7ead20c1",
   "metadata": {},
   "outputs": [
    {
     "name": "stdout",
     "output_type": "stream",
     "text": [
      "101     A\n",
      "102    B+\n",
      "103    A+\n",
      "104     E\n",
      "105     D\n",
      "106     C\n",
      "107     B\n",
      "108     B\n",
      "109     E\n",
      "110     E\n",
      "111    B+\n",
      "112    C+\n",
      "dtype: object\n"
     ]
    }
   ],
   "source": [
    "# Define the conditions and corresponding grade categories\n",
    "conditions = [\n",
    "    students > 95,\n",
    "    (students >= 90) & (students <= 95),\n",
    "    (students >= 85) & (students < 90),\n",
    "    (students >= 80) & (students < 85),\n",
    "    (students >= 75) & (students < 80),\n",
    "    (students >= 70) & (students < 75),\n",
    "    (students >= 60) & (students < 70),\n",
    "    students < 60\n",
    "]\n",
    "\n",
    "grade_cat = ['A+', 'A', 'B+', 'B', 'C+', 'C', 'D', 'E']\n",
    "\n",
    "# Use conditional selection to assign new grades based on conditions\n",
    "new_grades = pd.Series(np.select(conditions, grade_cat), index = students.index)\n",
    "\n",
    "print(new_grades)"
   ]
  },
  {
   "cell_type": "markdown",
   "id": "915d73e6",
   "metadata": {},
   "source": [
    "## Task4:\n",
    "\n",
    "**a: Create a function named `map_grades` that takes a list of grades as input and returns the corresponding grade categories (A+, A, B+, B, C+, C, D, and E) based on the specified intervals.**\n",
    "\n",
    "**b. Solve the same task by using the map_grades() user-defined function within the `map()` function.**\n",
    "\n",
    "**c. Solve the same task by using the map_grades() user-defined function within the `apply()` function**."
   ]
  },
  {
   "cell_type": "code",
   "execution_count": 182,
   "id": "2f5c8293",
   "metadata": {},
   "outputs": [],
   "source": [
    "# Task 4 - a :\n",
    "\n",
    "def map_grades(grade):\n",
    "    if grade > 95:\n",
    "        return 'A+'\n",
    "    elif grade >= 90:\n",
    "        return 'A'\n",
    "    elif grade >= 85:\n",
    "        return 'B+'\n",
    "    elif grade >= 80:\n",
    "        return 'B'\n",
    "    elif grade >= 75:\n",
    "        return 'C+'\n",
    "    elif grade >= 70:\n",
    "        return 'C'\n",
    "    elif grade >= 60:\n",
    "        return 'D'\n",
    "    else:\n",
    "        return 'E'"
   ]
  },
  {
   "cell_type": "code",
   "execution_count": 30,
   "id": "b9023971",
   "metadata": {},
   "outputs": [
    {
     "name": "stdout",
     "output_type": "stream",
     "text": [
      "101     A\n",
      "102    B+\n",
      "103    A+\n",
      "104     E\n",
      "105     D\n",
      "106     C\n",
      "107     B\n",
      "108     B\n",
      "109     E\n",
      "110     E\n",
      "111    B+\n",
      "112    C+\n",
      "Name: students, dtype: object\n"
     ]
    }
   ],
   "source": [
    "# Task 4 - b :\n",
    "\n",
    "new_grades = students.map(map_grades).fillna('E')\n",
    "print(new_grades)"
   ]
  },
  {
   "cell_type": "code",
   "execution_count": 31,
   "id": "2a9a03bf",
   "metadata": {},
   "outputs": [
    {
     "name": "stdout",
     "output_type": "stream",
     "text": [
      "101     A\n",
      "102    B+\n",
      "103    A+\n",
      "104     E\n",
      "105     D\n",
      "106     C\n",
      "107     B\n",
      "108     B\n",
      "109     E\n",
      "110     E\n",
      "111    B+\n",
      "112    C+\n",
      "Name: students, dtype: object\n"
     ]
    }
   ],
   "source": [
    "# Task 4 - c :\n",
    "\n",
    "new_grades = students.apply(map_grades)\n",
    "print(new_grades)"
   ]
  }
 ],
 "metadata": {
  "kernelspec": {
   "display_name": "Python 3 (ipykernel)",
   "language": "python",
   "name": "python3"
  },
  "language_info": {
   "codemirror_mode": {
    "name": "ipython",
    "version": 3
   },
   "file_extension": ".py",
   "mimetype": "text/x-python",
   "name": "python",
   "nbconvert_exporter": "python",
   "pygments_lexer": "ipython3",
   "version": "3.9.12"
  }
 },
 "nbformat": 4,
 "nbformat_minor": 5
}
